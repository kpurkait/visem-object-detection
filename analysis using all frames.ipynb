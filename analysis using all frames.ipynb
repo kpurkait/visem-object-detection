{
 "cells": [
  {
   "cell_type": "code",
   "execution_count": 2,
   "id": "d1056b36",
   "metadata": {},
   "outputs": [],
   "source": [
    "import pandas as pd\n",
    "import numpy as np\n",
    "import os\n",
    "from pathlib import Path\n",
    "from PIL import Image\n",
    "import seaborn as sn\n",
    "import matplotlib.pyplot as plt"
   ]
  },
  {
   "cell_type": "code",
   "execution_count": 3,
   "id": "7c24617a",
   "metadata": {
    "scrolled": true
   },
   "outputs": [
    {
     "data": {
      "text/html": [
       "<div>\n",
       "<style scoped>\n",
       "    .dataframe tbody tr th:only-of-type {\n",
       "        vertical-align: middle;\n",
       "    }\n",
       "\n",
       "    .dataframe tbody tr th {\n",
       "        vertical-align: top;\n",
       "    }\n",
       "\n",
       "    .dataframe thead th {\n",
       "        text-align: right;\n",
       "    }\n",
       "</style>\n",
       "<table border=\"1\" class=\"dataframe\">\n",
       "  <thead>\n",
       "    <tr style=\"text-align: right;\">\n",
       "      <th></th>\n",
       "      <th>ID</th>\n",
       "      <th>Serum C14:0 (myristic acid)</th>\n",
       "      <th>Serum C16:0 (palmitic acid)</th>\n",
       "      <th>Serum C16:1 (palmitoleic acid)</th>\n",
       "      <th>Serum C18:0 (stearic acid)</th>\n",
       "      <th>Serum C18:1 n-9 (oleic acid)</th>\n",
       "      <th>Serum total C18:1</th>\n",
       "      <th>Serum C18:2 n-6 (linoleic acid, LA)</th>\n",
       "      <th>Serum C18:3 n-6 (gamma-linoleic acid, GLA)</th>\n",
       "      <th>Serum C20:1 n-9</th>\n",
       "      <th>Serum C20:2 n-6</th>\n",
       "      <th>Serum C20:3 n-6</th>\n",
       "      <th>Serum C20:4 n-6</th>\n",
       "      <th>Serum C20:5 n-3  (eicosapentaenoic acid, EPA)</th>\n",
       "      <th>Serum C22:5 n-3 (docosapentaenoic acid, DPA)</th>\n",
       "      <th>Serum C22:6 n-3 (docosahexaenoic acid, DHA)</th>\n",
       "    </tr>\n",
       "  </thead>\n",
       "  <tbody>\n",
       "    <tr>\n",
       "      <th>0</th>\n",
       "      <td>11</td>\n",
       "      <td>0.26</td>\n",
       "      <td>29.64</td>\n",
       "      <td>0.37</td>\n",
       "      <td>14.92</td>\n",
       "      <td>7.43</td>\n",
       "      <td>9.02</td>\n",
       "      <td>23.22</td>\n",
       "      <td>0.14</td>\n",
       "      <td>0.19</td>\n",
       "      <td>0.37</td>\n",
       "      <td>2.91</td>\n",
       "      <td>9.00</td>\n",
       "      <td>1.63</td>\n",
       "      <td>1.22</td>\n",
       "      <td>7.11</td>\n",
       "    </tr>\n",
       "    <tr>\n",
       "      <th>1</th>\n",
       "      <td>12</td>\n",
       "      <td>0.17</td>\n",
       "      <td>29.77</td>\n",
       "      <td>0.45</td>\n",
       "      <td>13.99</td>\n",
       "      <td>6.66</td>\n",
       "      <td>8.23</td>\n",
       "      <td>18.50</td>\n",
       "      <td>0.15</td>\n",
       "      <td>0.18</td>\n",
       "      <td>0.27</td>\n",
       "      <td>1.51</td>\n",
       "      <td>12.66</td>\n",
       "      <td>4.11</td>\n",
       "      <td>1.40</td>\n",
       "      <td>8.61</td>\n",
       "    </tr>\n",
       "    <tr>\n",
       "      <th>2</th>\n",
       "      <td>13</td>\n",
       "      <td>0.20</td>\n",
       "      <td>29.22</td>\n",
       "      <td>0.48</td>\n",
       "      <td>15.34</td>\n",
       "      <td>8.32</td>\n",
       "      <td>9.90</td>\n",
       "      <td>20.98</td>\n",
       "      <td>0.29</td>\n",
       "      <td>0.13</td>\n",
       "      <td>0.31</td>\n",
       "      <td>2.10</td>\n",
       "      <td>9.57</td>\n",
       "      <td>3.39</td>\n",
       "      <td>1.06</td>\n",
       "      <td>7.01</td>\n",
       "    </tr>\n",
       "    <tr>\n",
       "      <th>3</th>\n",
       "      <td>14</td>\n",
       "      <td>0.31</td>\n",
       "      <td>28.76</td>\n",
       "      <td>0.49</td>\n",
       "      <td>17.03</td>\n",
       "      <td>7.73</td>\n",
       "      <td>9.37</td>\n",
       "      <td>22.50</td>\n",
       "      <td>0.20</td>\n",
       "      <td>0.09</td>\n",
       "      <td>0.27</td>\n",
       "      <td>3.51</td>\n",
       "      <td>10.75</td>\n",
       "      <td>0.89</td>\n",
       "      <td>1.04</td>\n",
       "      <td>4.80</td>\n",
       "    </tr>\n",
       "    <tr>\n",
       "      <th>4</th>\n",
       "      <td>15</td>\n",
       "      <td>0.26</td>\n",
       "      <td>28.94</td>\n",
       "      <td>0.41</td>\n",
       "      <td>14.79</td>\n",
       "      <td>11.45</td>\n",
       "      <td>13.47</td>\n",
       "      <td>18.84</td>\n",
       "      <td>0.20</td>\n",
       "      <td>0.11</td>\n",
       "      <td>0.27</td>\n",
       "      <td>3.03</td>\n",
       "      <td>11.71</td>\n",
       "      <td>1.33</td>\n",
       "      <td>1.28</td>\n",
       "      <td>5.36</td>\n",
       "    </tr>\n",
       "  </tbody>\n",
       "</table>\n",
       "</div>"
      ],
      "text/plain": [
       "   ID  Serum C14:0 (myristic acid)  Serum C16:0 (palmitic acid)  \\\n",
       "0  11                         0.26                        29.64   \n",
       "1  12                         0.17                        29.77   \n",
       "2  13                         0.20                        29.22   \n",
       "3  14                         0.31                        28.76   \n",
       "4  15                         0.26                        28.94   \n",
       "\n",
       "   Serum C16:1 (palmitoleic acid)  Serum C18:0 (stearic acid)  \\\n",
       "0                            0.37                       14.92   \n",
       "1                            0.45                       13.99   \n",
       "2                            0.48                       15.34   \n",
       "3                            0.49                       17.03   \n",
       "4                            0.41                       14.79   \n",
       "\n",
       "   Serum C18:1 n-9 (oleic acid)  Serum total C18:1  \\\n",
       "0                          7.43               9.02   \n",
       "1                          6.66               8.23   \n",
       "2                          8.32               9.90   \n",
       "3                          7.73               9.37   \n",
       "4                         11.45              13.47   \n",
       "\n",
       "   Serum C18:2 n-6 (linoleic acid, LA)  \\\n",
       "0                                23.22   \n",
       "1                                18.50   \n",
       "2                                20.98   \n",
       "3                                22.50   \n",
       "4                                18.84   \n",
       "\n",
       "   Serum C18:3 n-6 (gamma-linoleic acid, GLA)  Serum C20:1 n-9  \\\n",
       "0                                        0.14             0.19   \n",
       "1                                        0.15             0.18   \n",
       "2                                        0.29             0.13   \n",
       "3                                        0.20             0.09   \n",
       "4                                        0.20             0.11   \n",
       "\n",
       "   Serum C20:2 n-6  Serum C20:3 n-6  Serum C20:4 n-6  \\\n",
       "0             0.37             2.91             9.00   \n",
       "1             0.27             1.51            12.66   \n",
       "2             0.31             2.10             9.57   \n",
       "3             0.27             3.51            10.75   \n",
       "4             0.27             3.03            11.71   \n",
       "\n",
       "   Serum C20:5 n-3  (eicosapentaenoic acid, EPA)  \\\n",
       "0                                           1.63   \n",
       "1                                           4.11   \n",
       "2                                           3.39   \n",
       "3                                           0.89   \n",
       "4                                           1.33   \n",
       "\n",
       "   Serum C22:5 n-3 (docosapentaenoic acid, DPA)  \\\n",
       "0                                          1.22   \n",
       "1                                          1.40   \n",
       "2                                          1.06   \n",
       "3                                          1.04   \n",
       "4                                          1.28   \n",
       "\n",
       "   Serum C22:6 n-3 (docosahexaenoic acid, DHA)  \n",
       "0                                         7.11  \n",
       "1                                         8.61  \n",
       "2                                         7.01  \n",
       "3                                         4.80  \n",
       "4                                         5.36  "
      ]
     },
     "execution_count": 3,
     "metadata": {},
     "output_type": "execute_result"
    }
   ],
   "source": [
    "fat_serum = pd.read_csv('fatty_acids_serum_Train.csv')\n",
    "fat_serum.head()"
   ]
  },
  {
   "cell_type": "code",
   "execution_count": 4,
   "id": "3e71f20e",
   "metadata": {},
   "outputs": [
    {
     "data": {
      "text/html": [
       "<div>\n",
       "<style scoped>\n",
       "    .dataframe tbody tr th:only-of-type {\n",
       "        vertical-align: middle;\n",
       "    }\n",
       "\n",
       "    .dataframe tbody tr th {\n",
       "        vertical-align: top;\n",
       "    }\n",
       "\n",
       "    .dataframe thead th {\n",
       "        text-align: right;\n",
       "    }\n",
       "</style>\n",
       "<table border=\"1\" class=\"dataframe\">\n",
       "  <thead>\n",
       "    <tr style=\"text-align: right;\">\n",
       "      <th></th>\n",
       "      <th>ID</th>\n",
       "      <th>Sperm C14:0 (myristic acid)</th>\n",
       "      <th>Sperm C15:0 (pentadecanoic acid)</th>\n",
       "      <th>Sperm C16:0 (palmitic acid)</th>\n",
       "      <th>Sperm C16:1 n-7 (palmitoleic acid)</th>\n",
       "      <th>Sperm C17:0</th>\n",
       "      <th>Sperm C18:0 (stearic acid)</th>\n",
       "      <th>Sperm C18:1 trans n-6 to n-11</th>\n",
       "      <th>Sperm C18:1 n-9 (oleic acid)</th>\n",
       "      <th>Sperm C18:1 n-7 to n-11</th>\n",
       "      <th>...</th>\n",
       "      <th>Sperm C20:1 n-9</th>\n",
       "      <th>Sperm C20:2 n-6</th>\n",
       "      <th>Sperm C22:0</th>\n",
       "      <th>Sperm C20:3 n-6</th>\n",
       "      <th>Sperm C20:4 n-6 and C22:1 n-9 combined</th>\n",
       "      <th>Sperm C20:5 n-3 (eicosapentaenoic acid, EPA)</th>\n",
       "      <th>Sperm C24:0</th>\n",
       "      <th>Sperm C24:1 n-9</th>\n",
       "      <th>Sperm C22:5 n-3 (docosapentaenoic acid, DPA)</th>\n",
       "      <th>Sperm C22:6,n3 (docosahexaenoic acid, DHA)</th>\n",
       "    </tr>\n",
       "  </thead>\n",
       "  <tbody>\n",
       "    <tr>\n",
       "      <th>0</th>\n",
       "      <td>11</td>\n",
       "      <td>1.8</td>\n",
       "      <td>0.2</td>\n",
       "      <td>21.6</td>\n",
       "      <td>1.7</td>\n",
       "      <td>0.2</td>\n",
       "      <td>7.5</td>\n",
       "      <td>1.7</td>\n",
       "      <td>21.6</td>\n",
       "      <td>2.7</td>\n",
       "      <td>...</td>\n",
       "      <td>0.5</td>\n",
       "      <td>0.6</td>\n",
       "      <td>1.2</td>\n",
       "      <td>1.7</td>\n",
       "      <td>1.6</td>\n",
       "      <td>0.02</td>\n",
       "      <td>1.0</td>\n",
       "      <td>1.2</td>\n",
       "      <td>0.9</td>\n",
       "      <td>18.6</td>\n",
       "    </tr>\n",
       "    <tr>\n",
       "      <th>1</th>\n",
       "      <td>12</td>\n",
       "      <td>1.3</td>\n",
       "      <td>0.2</td>\n",
       "      <td>23.5</td>\n",
       "      <td>1.1</td>\n",
       "      <td>0.3</td>\n",
       "      <td>8.8</td>\n",
       "      <td>1.1</td>\n",
       "      <td>13.2</td>\n",
       "      <td>2.3</td>\n",
       "      <td>...</td>\n",
       "      <td>0.4</td>\n",
       "      <td>0.5</td>\n",
       "      <td>1.6</td>\n",
       "      <td>1.8</td>\n",
       "      <td>2.4</td>\n",
       "      <td>0.08</td>\n",
       "      <td>0.9</td>\n",
       "      <td>1.4</td>\n",
       "      <td>2.0</td>\n",
       "      <td>25.0</td>\n",
       "    </tr>\n",
       "    <tr>\n",
       "      <th>2</th>\n",
       "      <td>13</td>\n",
       "      <td>1.8</td>\n",
       "      <td>0.2</td>\n",
       "      <td>20.3</td>\n",
       "      <td>1.7</td>\n",
       "      <td>0.2</td>\n",
       "      <td>8.7</td>\n",
       "      <td>2.2</td>\n",
       "      <td>23.2</td>\n",
       "      <td>2.5</td>\n",
       "      <td>...</td>\n",
       "      <td>0.5</td>\n",
       "      <td>0.4</td>\n",
       "      <td>1.4</td>\n",
       "      <td>1.9</td>\n",
       "      <td>2.0</td>\n",
       "      <td>0.07</td>\n",
       "      <td>1.2</td>\n",
       "      <td>1.3</td>\n",
       "      <td>0.8</td>\n",
       "      <td>16.1</td>\n",
       "    </tr>\n",
       "    <tr>\n",
       "      <th>3</th>\n",
       "      <td>14</td>\n",
       "      <td>1.4</td>\n",
       "      <td>0.2</td>\n",
       "      <td>18.4</td>\n",
       "      <td>1.2</td>\n",
       "      <td>0.3</td>\n",
       "      <td>9.2</td>\n",
       "      <td>2.0</td>\n",
       "      <td>26.1</td>\n",
       "      <td>1.7</td>\n",
       "      <td>...</td>\n",
       "      <td>0.8</td>\n",
       "      <td>0.4</td>\n",
       "      <td>2.2</td>\n",
       "      <td>1.0</td>\n",
       "      <td>4.2</td>\n",
       "      <td>0.31</td>\n",
       "      <td>2.9</td>\n",
       "      <td>3.8</td>\n",
       "      <td>0.8</td>\n",
       "      <td>3.6</td>\n",
       "    </tr>\n",
       "    <tr>\n",
       "      <th>4</th>\n",
       "      <td>15</td>\n",
       "      <td>1.7</td>\n",
       "      <td>0.2</td>\n",
       "      <td>24.0</td>\n",
       "      <td>1.4</td>\n",
       "      <td>0.3</td>\n",
       "      <td>8.4</td>\n",
       "      <td>1.3</td>\n",
       "      <td>15.3</td>\n",
       "      <td>3.0</td>\n",
       "      <td>...</td>\n",
       "      <td>0.7</td>\n",
       "      <td>0.6</td>\n",
       "      <td>2.3</td>\n",
       "      <td>1.7</td>\n",
       "      <td>2.1</td>\n",
       "      <td>0.06</td>\n",
       "      <td>1.9</td>\n",
       "      <td>1.8</td>\n",
       "      <td>1.0</td>\n",
       "      <td>16.0</td>\n",
       "    </tr>\n",
       "  </tbody>\n",
       "</table>\n",
       "<p>5 rows × 24 columns</p>\n",
       "</div>"
      ],
      "text/plain": [
       "   ID  Sperm C14:0 (myristic acid)  Sperm C15:0 (pentadecanoic acid)  \\\n",
       "0  11                          1.8                               0.2   \n",
       "1  12                          1.3                               0.2   \n",
       "2  13                          1.8                               0.2   \n",
       "3  14                          1.4                               0.2   \n",
       "4  15                          1.7                               0.2   \n",
       "\n",
       "   Sperm C16:0 (palmitic acid)  Sperm C16:1 n-7 (palmitoleic acid)  \\\n",
       "0                         21.6                                 1.7   \n",
       "1                         23.5                                 1.1   \n",
       "2                         20.3                                 1.7   \n",
       "3                         18.4                                 1.2   \n",
       "4                         24.0                                 1.4   \n",
       "\n",
       "   Sperm C17:0  Sperm C18:0 (stearic acid)  Sperm C18:1 trans n-6 to n-11  \\\n",
       "0          0.2                         7.5                            1.7   \n",
       "1          0.3                         8.8                            1.1   \n",
       "2          0.2                         8.7                            2.2   \n",
       "3          0.3                         9.2                            2.0   \n",
       "4          0.3                         8.4                            1.3   \n",
       "\n",
       "   Sperm C18:1 n-9 (oleic acid)  Sperm C18:1 n-7 to n-11  ...  \\\n",
       "0                          21.6                      2.7  ...   \n",
       "1                          13.2                      2.3  ...   \n",
       "2                          23.2                      2.5  ...   \n",
       "3                          26.1                      1.7  ...   \n",
       "4                          15.3                      3.0  ...   \n",
       "\n",
       "   Sperm C20:1 n-9  Sperm C20:2 n-6  Sperm C22:0  Sperm C20:3 n-6  \\\n",
       "0              0.5              0.6          1.2              1.7   \n",
       "1              0.4              0.5          1.6              1.8   \n",
       "2              0.5              0.4          1.4              1.9   \n",
       "3              0.8              0.4          2.2              1.0   \n",
       "4              0.7              0.6          2.3              1.7   \n",
       "\n",
       "   Sperm C20:4 n-6 and C22:1 n-9 combined  \\\n",
       "0                                     1.6   \n",
       "1                                     2.4   \n",
       "2                                     2.0   \n",
       "3                                     4.2   \n",
       "4                                     2.1   \n",
       "\n",
       "   Sperm C20:5 n-3 (eicosapentaenoic acid, EPA)  Sperm C24:0  Sperm C24:1 n-9  \\\n",
       "0                                          0.02          1.0              1.2   \n",
       "1                                          0.08          0.9              1.4   \n",
       "2                                          0.07          1.2              1.3   \n",
       "3                                          0.31          2.9              3.8   \n",
       "4                                          0.06          1.9              1.8   \n",
       "\n",
       "   Sperm C22:5 n-3 (docosapentaenoic acid, DPA)  \\\n",
       "0                                           0.9   \n",
       "1                                           2.0   \n",
       "2                                           0.8   \n",
       "3                                           0.8   \n",
       "4                                           1.0   \n",
       "\n",
       "   Sperm C22:6,n3 (docosahexaenoic acid, DHA)  \n",
       "0                                        18.6  \n",
       "1                                        25.0  \n",
       "2                                        16.1  \n",
       "3                                         3.6  \n",
       "4                                        16.0  \n",
       "\n",
       "[5 rows x 24 columns]"
      ]
     },
     "execution_count": 4,
     "metadata": {},
     "output_type": "execute_result"
    }
   ],
   "source": [
    "fat_sperm = pd.read_csv('fatty_acids_spermatoza_Train.csv')\n",
    "fat_sperm.head()"
   ]
  },
  {
   "cell_type": "code",
   "execution_count": 5,
   "id": "73e98131",
   "metadata": {
    "scrolled": true
   },
   "outputs": [
    {
     "data": {
      "text/html": [
       "<div>\n",
       "<style scoped>\n",
       "    .dataframe tbody tr th:only-of-type {\n",
       "        vertical-align: middle;\n",
       "    }\n",
       "\n",
       "    .dataframe tbody tr th {\n",
       "        vertical-align: top;\n",
       "    }\n",
       "\n",
       "    .dataframe thead th {\n",
       "        text-align: right;\n",
       "    }\n",
       "</style>\n",
       "<table border=\"1\" class=\"dataframe\">\n",
       "  <thead>\n",
       "    <tr style=\"text-align: right;\">\n",
       "      <th></th>\n",
       "      <th>ID</th>\n",
       "      <th>Abstinence time(days)</th>\n",
       "      <th>Body mass index (kg/m²)</th>\n",
       "      <th>Age (years)</th>\n",
       "    </tr>\n",
       "  </thead>\n",
       "  <tbody>\n",
       "    <tr>\n",
       "      <th>0</th>\n",
       "      <td>11</td>\n",
       "      <td>3</td>\n",
       "      <td>28.8</td>\n",
       "      <td>41</td>\n",
       "    </tr>\n",
       "    <tr>\n",
       "      <th>1</th>\n",
       "      <td>12</td>\n",
       "      <td>3.5</td>\n",
       "      <td>29.8</td>\n",
       "      <td>30</td>\n",
       "    </tr>\n",
       "    <tr>\n",
       "      <th>2</th>\n",
       "      <td>13</td>\n",
       "      <td>1</td>\n",
       "      <td>28.1</td>\n",
       "      <td>44</td>\n",
       "    </tr>\n",
       "    <tr>\n",
       "      <th>3</th>\n",
       "      <td>14</td>\n",
       "      <td>3</td>\n",
       "      <td>34.7</td>\n",
       "      <td>40</td>\n",
       "    </tr>\n",
       "    <tr>\n",
       "      <th>4</th>\n",
       "      <td>15</td>\n",
       "      <td>4</td>\n",
       "      <td>30.9</td>\n",
       "      <td>39</td>\n",
       "    </tr>\n",
       "  </tbody>\n",
       "</table>\n",
       "</div>"
      ],
      "text/plain": [
       "   ID Abstinence time(days)  Body mass index (kg/m²)  Age (years)\n",
       "0  11                     3                     28.8           41\n",
       "1  12                   3.5                     29.8           30\n",
       "2  13                     1                     28.1           44\n",
       "3  14                     3                     34.7           40\n",
       "4  15                     4                     30.9           39"
      ]
     },
     "execution_count": 5,
     "metadata": {},
     "output_type": "execute_result"
    }
   ],
   "source": [
    "related_info = pd.read_csv('participant_related_data_Train.csv')\n",
    "related_info.head()"
   ]
  },
  {
   "cell_type": "code",
   "execution_count": 6,
   "id": "34e6d3db",
   "metadata": {
    "scrolled": false
   },
   "outputs": [
    {
     "data": {
      "text/html": [
       "<div>\n",
       "<style scoped>\n",
       "    .dataframe tbody tr th:only-of-type {\n",
       "        vertical-align: middle;\n",
       "    }\n",
       "\n",
       "    .dataframe tbody tr th {\n",
       "        vertical-align: top;\n",
       "    }\n",
       "\n",
       "    .dataframe thead th {\n",
       "        text-align: right;\n",
       "    }\n",
       "</style>\n",
       "<table border=\"1\" class=\"dataframe\">\n",
       "  <thead>\n",
       "    <tr style=\"text-align: right;\">\n",
       "      <th></th>\n",
       "      <th>ID</th>\n",
       "      <th>Sperm concentration (x10⁶/mL)</th>\n",
       "      <th>Total sperm count (x10⁶)</th>\n",
       "      <th>Ejaculate volume (mL)</th>\n",
       "      <th>Sperm vitality (%)</th>\n",
       "      <th>Normal spermatozoa (%)</th>\n",
       "      <th>Head defects (%)</th>\n",
       "      <th>Midpiece and neck defects (%)</th>\n",
       "      <th>Tail defects (%)</th>\n",
       "      <th>Cytoplasmic droplet (%)</th>\n",
       "      <th>Teratozoospermia index</th>\n",
       "      <th>Progressive motility (%)</th>\n",
       "      <th>Non progressive sperm motility (%)</th>\n",
       "      <th>Immotile sperm (%)</th>\n",
       "      <th>High DNA stainability, HDS (%)</th>\n",
       "      <th>DNA fragmentation index, DFI (%)</th>\n",
       "    </tr>\n",
       "  </thead>\n",
       "  <tbody>\n",
       "    <tr>\n",
       "      <th>0</th>\n",
       "      <td>11</td>\n",
       "      <td>97.0</td>\n",
       "      <td>129.0</td>\n",
       "      <td>1.3</td>\n",
       "      <td>80</td>\n",
       "      <td>2.4</td>\n",
       "      <td>97.0</td>\n",
       "      <td>28.0</td>\n",
       "      <td>9.7</td>\n",
       "      <td>7.3</td>\n",
       "      <td>1.45</td>\n",
       "      <td>11</td>\n",
       "      <td>17</td>\n",
       "      <td>72</td>\n",
       "      <td>6</td>\n",
       "      <td>24</td>\n",
       "    </tr>\n",
       "    <tr>\n",
       "      <th>1</th>\n",
       "      <td>12</td>\n",
       "      <td>29.4</td>\n",
       "      <td>213.9</td>\n",
       "      <td>7.3</td>\n",
       "      <td>94</td>\n",
       "      <td>2.5</td>\n",
       "      <td>96.0</td>\n",
       "      <td>33.3</td>\n",
       "      <td>14.9</td>\n",
       "      <td>6.5</td>\n",
       "      <td>1.55</td>\n",
       "      <td>33</td>\n",
       "      <td>54</td>\n",
       "      <td>13</td>\n",
       "      <td>10</td>\n",
       "      <td>8</td>\n",
       "    </tr>\n",
       "    <tr>\n",
       "      <th>2</th>\n",
       "      <td>13</td>\n",
       "      <td>74.4</td>\n",
       "      <td>136.1</td>\n",
       "      <td>1.8</td>\n",
       "      <td>88</td>\n",
       "      <td>3.9</td>\n",
       "      <td>96.0</td>\n",
       "      <td>31.0</td>\n",
       "      <td>5.8</td>\n",
       "      <td>3.9</td>\n",
       "      <td>1.42</td>\n",
       "      <td>33</td>\n",
       "      <td>30</td>\n",
       "      <td>37</td>\n",
       "      <td>10</td>\n",
       "      <td>4</td>\n",
       "    </tr>\n",
       "    <tr>\n",
       "      <th>3</th>\n",
       "      <td>14</td>\n",
       "      <td>3.8</td>\n",
       "      <td>6.9</td>\n",
       "      <td>1.8</td>\n",
       "      <td>96</td>\n",
       "      <td>4.0</td>\n",
       "      <td>96.0</td>\n",
       "      <td>36.0</td>\n",
       "      <td>17.0</td>\n",
       "      <td>7.5</td>\n",
       "      <td>1.63</td>\n",
       "      <td>41</td>\n",
       "      <td>43</td>\n",
       "      <td>16</td>\n",
       "      <td>13</td>\n",
       "      <td>15</td>\n",
       "    </tr>\n",
       "    <tr>\n",
       "      <th>4</th>\n",
       "      <td>15</td>\n",
       "      <td>4.0</td>\n",
       "      <td>5.8</td>\n",
       "      <td>1.4</td>\n",
       "      <td>93</td>\n",
       "      <td>0.0</td>\n",
       "      <td>100.0</td>\n",
       "      <td>50.5</td>\n",
       "      <td>21.5</td>\n",
       "      <td>6.0</td>\n",
       "      <td>1.78</td>\n",
       "      <td>15</td>\n",
       "      <td>46</td>\n",
       "      <td>39</td>\n",
       "      <td>27</td>\n",
       "      <td>28</td>\n",
       "    </tr>\n",
       "  </tbody>\n",
       "</table>\n",
       "</div>"
      ],
      "text/plain": [
       "   ID  Sperm concentration (x10⁶/mL)  Total sperm count (x10⁶)  \\\n",
       "0  11                           97.0                     129.0   \n",
       "1  12                           29.4                     213.9   \n",
       "2  13                           74.4                     136.1   \n",
       "3  14                            3.8                       6.9   \n",
       "4  15                            4.0                       5.8   \n",
       "\n",
       "   Ejaculate volume (mL)  Sperm vitality (%)  Normal spermatozoa (%)  \\\n",
       "0                    1.3                  80                     2.4   \n",
       "1                    7.3                  94                     2.5   \n",
       "2                    1.8                  88                     3.9   \n",
       "3                    1.8                  96                     4.0   \n",
       "4                    1.4                  93                     0.0   \n",
       "\n",
       "   Head defects (%)  Midpiece and neck defects (%)  Tail defects (%)  \\\n",
       "0              97.0                           28.0               9.7   \n",
       "1              96.0                           33.3              14.9   \n",
       "2              96.0                           31.0               5.8   \n",
       "3              96.0                           36.0              17.0   \n",
       "4             100.0                           50.5              21.5   \n",
       "\n",
       "   Cytoplasmic droplet (%)  Teratozoospermia index  Progressive motility (%)  \\\n",
       "0                      7.3                    1.45                        11   \n",
       "1                      6.5                    1.55                        33   \n",
       "2                      3.9                    1.42                        33   \n",
       "3                      7.5                    1.63                        41   \n",
       "4                      6.0                    1.78                        15   \n",
       "\n",
       "   Non progressive sperm motility (%)  Immotile sperm (%)  \\\n",
       "0                                  17                  72   \n",
       "1                                  54                  13   \n",
       "2                                  30                  37   \n",
       "3                                  43                  16   \n",
       "4                                  46                  39   \n",
       "\n",
       "   High DNA stainability, HDS (%)  DNA fragmentation index, DFI (%)  \n",
       "0                               6                                24  \n",
       "1                              10                                 8  \n",
       "2                              10                                 4  \n",
       "3                              13                                15  \n",
       "4                              27                                28  "
      ]
     },
     "execution_count": 6,
     "metadata": {},
     "output_type": "execute_result"
    }
   ],
   "source": [
    "semen = pd.read_csv('semen_analysis_data_Train.csv')\n",
    "semen.head()"
   ]
  },
  {
   "cell_type": "code",
   "execution_count": 7,
   "id": "13421177",
   "metadata": {},
   "outputs": [
    {
     "data": {
      "text/html": [
       "<div>\n",
       "<style scoped>\n",
       "    .dataframe tbody tr th:only-of-type {\n",
       "        vertical-align: middle;\n",
       "    }\n",
       "\n",
       "    .dataframe tbody tr th {\n",
       "        vertical-align: top;\n",
       "    }\n",
       "\n",
       "    .dataframe thead th {\n",
       "        text-align: right;\n",
       "    }\n",
       "</style>\n",
       "<table border=\"1\" class=\"dataframe\">\n",
       "  <thead>\n",
       "    <tr style=\"text-align: right;\">\n",
       "      <th></th>\n",
       "      <th>ID</th>\n",
       "      <th>Seminal plasma anti-Müllerian hormone (AMH) (pmol/L)</th>\n",
       "      <th>Serum total testosterone (nmol/L)</th>\n",
       "      <th>Serum oestradiol (nmol/L)</th>\n",
       "      <th>Serum sex hormone-binding globulin, SHBG (nmol/L)</th>\n",
       "      <th>Serum follicle-stimulating hormone, FSH (IU/L)</th>\n",
       "      <th>Serum Luteinizing hormone, LH (IU/L)</th>\n",
       "      <th>Serum inhibin B (ng/L)</th>\n",
       "      <th>Serum anti-Müllerian hormone, AMH (pmol/L)</th>\n",
       "    </tr>\n",
       "  </thead>\n",
       "  <tbody>\n",
       "    <tr>\n",
       "      <th>0</th>\n",
       "      <td>11</td>\n",
       "      <td>69</td>\n",
       "      <td>18.4</td>\n",
       "      <td>0.15</td>\n",
       "      <td>30</td>\n",
       "      <td>3.35</td>\n",
       "      <td>3.46</td>\n",
       "      <td>197</td>\n",
       "      <td>14</td>\n",
       "    </tr>\n",
       "    <tr>\n",
       "      <th>1</th>\n",
       "      <td>12</td>\n",
       "      <td>1</td>\n",
       "      <td>12.8</td>\n",
       "      <td>0.14</td>\n",
       "      <td>23</td>\n",
       "      <td>3.36</td>\n",
       "      <td>2.24</td>\n",
       "      <td>194</td>\n",
       "      <td>44</td>\n",
       "    </tr>\n",
       "    <tr>\n",
       "      <th>2</th>\n",
       "      <td>13</td>\n",
       "      <td>131</td>\n",
       "      <td>25.8</td>\n",
       "      <td>0.18</td>\n",
       "      <td>39</td>\n",
       "      <td>4.68</td>\n",
       "      <td>8.90</td>\n",
       "      <td>194</td>\n",
       "      <td>38</td>\n",
       "    </tr>\n",
       "    <tr>\n",
       "      <th>3</th>\n",
       "      <td>14</td>\n",
       "      <td>1</td>\n",
       "      <td>11.4</td>\n",
       "      <td>0.16</td>\n",
       "      <td>16</td>\n",
       "      <td>8.39</td>\n",
       "      <td>3.06</td>\n",
       "      <td>58</td>\n",
       "      <td>10</td>\n",
       "    </tr>\n",
       "    <tr>\n",
       "      <th>4</th>\n",
       "      <td>15</td>\n",
       "      <td>5</td>\n",
       "      <td>23.9</td>\n",
       "      <td>0.14</td>\n",
       "      <td>33</td>\n",
       "      <td>5.78</td>\n",
       "      <td>2.58</td>\n",
       "      <td>129</td>\n",
       "      <td>29</td>\n",
       "    </tr>\n",
       "  </tbody>\n",
       "</table>\n",
       "</div>"
      ],
      "text/plain": [
       "   ID  Seminal plasma anti-Müllerian hormone (AMH) (pmol/L)  \\\n",
       "0  11                                                 69      \n",
       "1  12                                                  1      \n",
       "2  13                                                131      \n",
       "3  14                                                  1      \n",
       "4  15                                                  5      \n",
       "\n",
       "   Serum total testosterone (nmol/L)  Serum oestradiol (nmol/L)  \\\n",
       "0                               18.4                       0.15   \n",
       "1                               12.8                       0.14   \n",
       "2                               25.8                       0.18   \n",
       "3                               11.4                       0.16   \n",
       "4                               23.9                       0.14   \n",
       "\n",
       "   Serum sex hormone-binding globulin, SHBG (nmol/L)  \\\n",
       "0                                                 30   \n",
       "1                                                 23   \n",
       "2                                                 39   \n",
       "3                                                 16   \n",
       "4                                                 33   \n",
       "\n",
       "   Serum follicle-stimulating hormone, FSH (IU/L)  \\\n",
       "0                                            3.35   \n",
       "1                                            3.36   \n",
       "2                                            4.68   \n",
       "3                                            8.39   \n",
       "4                                            5.78   \n",
       "\n",
       "   Serum Luteinizing hormone, LH (IU/L)  Serum inhibin B (ng/L)  \\\n",
       "0                                  3.46                     197   \n",
       "1                                  2.24                     194   \n",
       "2                                  8.90                     194   \n",
       "3                                  3.06                      58   \n",
       "4                                  2.58                     129   \n",
       "\n",
       "   Serum anti-Müllerian hormone, AMH (pmol/L)  \n",
       "0                                          14  \n",
       "1                                          44  \n",
       "2                                          38  \n",
       "3                                          10  \n",
       "4                                          29  "
      ]
     },
     "execution_count": 7,
     "metadata": {},
     "output_type": "execute_result"
    }
   ],
   "source": [
    "hormone = pd.read_csv('sex_hormones_Train.csv')\n",
    "hormone.head()"
   ]
  },
  {
   "cell_type": "markdown",
   "id": "249c8c81",
   "metadata": {},
   "source": [
    "The first level in the list is the individual. THe second level is each frame."
   ]
  },
  {
   "cell_type": "code",
   "execution_count": 54,
   "id": "e97757da",
   "metadata": {},
   "outputs": [],
   "source": [
    "folder = 'VISEM_Tracking_Train_v4/Train'\n",
    "label_arr = []\n",
    "frame_per_ind = []\n",
    "for file in os.listdir(folder):\n",
    "    label_folder = folder + '/'+ file + '/labels'\n",
    "    person_arr = []\n",
    "    n_frame = 0\n",
    "    for frame in os.listdir(label_folder):\n",
    "        n_frame += 1\n",
    "        person_arr.append(pd.read_table(label_folder+'/'+frame, sep = ' ', header = None))\n",
    "    label_arr.append(np.asarray(person_arr, dtype = 'object'))\n",
    "    frame_per_ind.append(n_frame)"
   ]
  },
  {
   "cell_type": "code",
   "execution_count": 55,
   "id": "7665e9d4",
   "metadata": {},
   "outputs": [],
   "source": [
    "# number of frames per individual\n",
    "frame_per_ind = np.hstack(frame_per_ind)"
   ]
  },
  {
   "cell_type": "markdown",
   "id": "a4388e59",
   "metadata": {},
   "source": [
    "Individual number 23 has 174 empty frames. Some videos have different frame rates (for individual 35, 52 has 1440 extracted frames, and individual 82 has 1500 extracted frames) "
   ]
  },
  {
   "cell_type": "code",
   "execution_count": 56,
   "id": "9c5a2e29",
   "metadata": {
    "scrolled": true
   },
   "outputs": [
    {
     "data": {
      "text/plain": [
       "array([1470, 1470, 1470, 1470, 1470, 1470, 1470, 1470, 1296, 1470, 1470,\n",
       "       1470, 1440, 1470, 1470, 1470, 1440, 1470, 1470, 1500])"
      ]
     },
     "execution_count": 56,
     "metadata": {},
     "output_type": "execute_result"
    }
   ],
   "source": [
    "frame_per_ind"
   ]
  },
  {
   "cell_type": "code",
   "execution_count": 46,
   "id": "0f27583b",
   "metadata": {},
   "outputs": [
    {
     "data": {
      "text/plain": [
       "(20,)"
      ]
     },
     "execution_count": 46,
     "metadata": {},
     "output_type": "execute_result"
    }
   ],
   "source": [
    "label_arr = np.asarray(label_arr, dtype = 'object')\n",
    "label_arr.shape"
   ]
  },
  {
   "cell_type": "markdown",
   "id": "f50f6f93",
   "metadata": {},
   "source": [
    "## Counting number of different types of sperm using only the FIRST FRAME:\n",
    "Note that each folder contain the same sperms. So, we only need to count the number in the first txt file of each invidual \n"
   ]
  },
  {
   "cell_type": "code",
   "execution_count": null,
   "id": "e43353ac",
   "metadata": {},
   "outputs": [],
   "source": [
    "count_frame = lambda i, frame: np.vstack((np.array([sum(label_arr[i][frame][0] == k) for k in \n",
    "                                                  np.unique(label_arr[i][frame][0])]), np.unique(label_arr[i][frame][0])))\n",
    "count_individual = lambda i: np.array([count_frame(i, frame) for frame in frame_per_ind])\n",
    "\n",
    "indi_sperm_count = [count_individual(i) for i in range(20)]\n",
    "print('sperm count for each individual (arr 1: count, arr 2: type):')\n",
    "[count_individual(i) for i in range(20)]"
   ]
  },
  {
   "cell_type": "code",
   "execution_count": 14,
   "id": "1beba120",
   "metadata": {
    "scrolled": true
   },
   "outputs": [
    {
     "name": "stdout",
     "output_type": "stream",
     "text": [
      "sperm count for each individual (arr 1: count, arr 2: type):\n"
     ]
    },
    {
     "data": {
      "text/plain": [
       "[array([[43],\n",
       "        [ 0]], dtype=int64),\n",
       " array([[27,  1,  1],\n",
       "        [ 0,  1,  2]], dtype=int64),\n",
       " array([[43,  1],\n",
       "        [ 0,  2]], dtype=int64),\n",
       " array([[3],\n",
       "        [0]], dtype=int64),\n",
       " array([[21,  1,  1],\n",
       "        [ 0,  1,  2]], dtype=int64),\n",
       " array([[19,  4],\n",
       "        [ 0,  1]], dtype=int64),\n",
       " array([[21,  3],\n",
       "        [ 0,  2]], dtype=int64),\n",
       " array([[12],\n",
       "        [ 0]], dtype=int64),\n",
       " array([[4],\n",
       "        [0]], dtype=int64),\n",
       " array([[62,  4],\n",
       "        [ 0,  1]], dtype=int64),\n",
       " array([[4, 1],\n",
       "        [0, 1]], dtype=int64),\n",
       " array([[12],\n",
       "        [ 0]], dtype=int64),\n",
       " array([[31,  2],\n",
       "        [ 0,  2]], dtype=int64),\n",
       " array([[45,  1],\n",
       "        [ 0,  2]], dtype=int64),\n",
       " array([[12],\n",
       "        [ 0]], dtype=int64),\n",
       " array([[8, 1],\n",
       "        [0, 2]], dtype=int64),\n",
       " array([[7, 1],\n",
       "        [0, 2]], dtype=int64),\n",
       " array([[27,  2,  1],\n",
       "        [ 0,  1,  2]], dtype=int64),\n",
       " array([[16,  2],\n",
       "        [ 0,  2]], dtype=int64),\n",
       " array([[26,  1],\n",
       "        [ 0,  2]], dtype=int64)]"
      ]
     },
     "execution_count": 14,
     "metadata": {},
     "output_type": "execute_result"
    }
   ],
   "source": [
    "count_individual = lambda i: np.vstack((np.array([sum(label_arr[i][0][0] == k) for k in \n",
    "                                                  np.unique(label_arr[i][0][0])]), np.unique(label_arr[i][0][0])))\n",
    "\n",
    "indi_sperm_count = [count_individual(i) for i in range(20)]\n",
    "print('sperm count for each individual (arr 1: count, arr 2: type):')\n",
    "[count_individual(i) for i in range(20)]"
   ]
  },
  {
   "cell_type": "markdown",
   "id": "2ca7b3a4",
   "metadata": {},
   "source": [
    "number of each sperm types counted on the first frame of each video:"
   ]
  },
  {
   "cell_type": "code",
   "execution_count": 15,
   "id": "564a4eed",
   "metadata": {},
   "outputs": [
    {
     "data": {
      "text/plain": [
       "array([[443,  13,  15],\n",
       "       [  0,   1,   2]], dtype=int64)"
      ]
     },
     "execution_count": 15,
     "metadata": {},
     "output_type": "execute_result"
    }
   ],
   "source": [
    "whole_counts = np.hstack((indi_sperm_count))\n",
    "np.vstack((np.array([sum(whole_counts[0,:][whole_counts[1]==i]) for i in range(3)]),\n",
    "          np.arange(3)))"
   ]
  },
  {
   "cell_type": "markdown",
   "id": "7de8389d",
   "metadata": {},
   "source": [
    "## Distribution of bounding boxes"
   ]
  },
  {
   "cell_type": "code",
   "execution_count": 119,
   "id": "356a87f5",
   "metadata": {
    "scrolled": true
   },
   "outputs": [],
   "source": [
    "# stack all frames together to perform a scatter plot\n",
    "stacked_arr = np.hstack(label_arr)"
   ]
  },
  {
   "cell_type": "code",
   "execution_count": 122,
   "id": "a15bc5b3",
   "metadata": {},
   "outputs": [],
   "source": [
    "stacked_arr = np.vstack(stacked_arr)"
   ]
  },
  {
   "cell_type": "code",
   "execution_count": 141,
   "id": "89b3dd76",
   "metadata": {
    "scrolled": true
   },
   "outputs": [
    {
     "data": {
      "image/png": "[encoded data removed]",
      "text/plain": [
       "<Figure size 432x288 with 2 Axes>"
      ]
     },
     "metadata": {
      "needs_background": "light"
     },
     "output_type": "display_data"
    }
   ],
   "source": [
    "x, y = stacked_arr[:,1], stacked_arr[:,2]\n",
    "fig2 = plt.figure()\n",
    "plt.hist2d(x, y, bins=30)\n",
    "plt.xlabel('centered x')\n",
    "plt.ylabel('centered y')\n",
    "cbar = plt.colorbar()\n",
    "cbar.ax.set_ylabel('Counts')\n",
    "plt.savefig('centered_x_centered_y_historgram.pdf')"
   ]
  },
  {
   "cell_type": "code",
   "execution_count": 140,
   "id": "e9229374",
   "metadata": {},
   "outputs": [
    {
     "data": {
      "image/png": "[encoded data removed]",
      "text/plain": [
       "<Figure size 432x288 with 2 Axes>"
      ]
     },
     "metadata": {
      "needs_background": "light"
     },
     "output_type": "display_data"
    }
   ],
   "source": [
    "x, y = stacked_arr[:,3], stacked_arr[:,4]\n",
    "fig2 = plt.figure()\n",
    "plt.hist2d(x, y, bins=30)\n",
    "plt.xlabel('width')\n",
    "plt.ylabel('height')\n",
    "cbar = plt.colorbar()\n",
    "cbar.ax.set_ylabel('Counts')\n",
    "plt.savefig('height_width_historgram.pdf')"
   ]
  },
  {
   "cell_type": "code",
   "execution_count": 139,
   "id": "bd01ddb7",
   "metadata": {},
   "outputs": [
    {
     "data": {
      "text/plain": [
       "<Figure size 432x288 with 0 Axes>"
      ]
     },
     "metadata": {},
     "output_type": "display_data"
    }
   ],
   "source": []
  },
  {
   "cell_type": "markdown",
   "id": "3e9a4cf3",
   "metadata": {},
   "source": [
    "## Number of sperm in each video:"
   ]
  },
  {
   "cell_type": "code",
   "execution_count": 58,
   "id": "84059c5d",
   "metadata": {},
   "outputs": [
    {
     "data": {
      "text/plain": [
       "1440"
      ]
     },
     "execution_count": 58,
     "metadata": {},
     "output_type": "execute_result"
    }
   ],
   "source": [
    "frame_per_ind[12]"
   ]
  },
  {
   "cell_type": "code",
   "execution_count": 17,
   "id": "e1197bc8",
   "metadata": {},
   "outputs": [
    {
     "data": {
      "text/plain": [
       "(array([ 8, 12, 16, 19], dtype=int64),)"
      ]
     },
     "execution_count": 17,
     "metadata": {},
     "output_type": "execute_result"
    }
   ],
   "source": [
    "np.where(frame_per_ind!= 1470)"
   ]
  },
  {
   "cell_type": "code",
   "execution_count": 57,
   "id": "9d71f58a",
   "metadata": {},
   "outputs": [],
   "source": [
    "m_frame_per_ind = frame_per_ind.copy()\n",
    "m_frame_per_ind[[12,16]]  = 1470\n",
    "m_frame_per_ind[19] = 1500"
   ]
  },
  {
   "cell_type": "code",
   "execution_count": 49,
   "id": "7892bbba",
   "metadata": {},
   "outputs": [
    {
     "data": {
      "text/plain": [
       "array([1470, 1470, 1470, 1470, 1470, 1470, 1470, 1470, 1296, 1470, 1470,\n",
       "       1470, 1470, 1470, 1470, 1470, 1470, 1470, 1470, 1500])"
      ]
     },
     "execution_count": 49,
     "metadata": {},
     "output_type": "execute_result"
    }
   ],
   "source": [
    "m_frame_per_ind"
   ]
  },
  {
   "cell_type": "code",
   "execution_count": 50,
   "id": "346ed8b5",
   "metadata": {},
   "outputs": [
    {
     "data": {
      "text/plain": [
       "(1440,)"
      ]
     },
     "execution_count": 50,
     "metadata": {},
     "output_type": "execute_result"
    }
   ],
   "source": [
    "label_arr[12].shape"
   ]
  },
  {
   "cell_type": "code",
   "execution_count": 61,
   "id": "95a67d1d",
   "metadata": {},
   "outputs": [
    {
     "data": {
      "text/plain": [
       "array([38.48163265, 26.77346939, 42.61632653,  3.91156463, 17.15306122,\n",
       "       22.45578231, 22.11564626, 10.87278912,  2.48996914, 66.31020408,\n",
       "        3.26462585, 10.90748299, 31.12380952, 45.25714286, 11.45034014,\n",
       "        5.46598639, 12.21360544, 28.75034014, 13.87823129, 30.66333333])"
      ]
     },
     "execution_count": 61,
     "metadata": {},
     "output_type": "execute_result"
    }
   ],
   "source": [
    "sperm_per_frame = lambda person, frame: len(label_arr[person][frame])\n",
    "sperm_per_video = lambda person: sum(np.array([sperm_per_frame(person, frame) for \n",
    "                                               frame in range(frame_per_ind[person])]))/m_frame_per_ind[person]\n",
    "# average number of sperms for each person\n",
    "sperm_per_video = np.array([sperm_per_video(person) for person in range(20)])\n",
    "sperm_per_video"
   ]
  },
  {
   "cell_type": "code",
   "execution_count": 62,
   "id": "f3c988d1",
   "metadata": {},
   "outputs": [
    {
     "data": {
      "text/plain": [
       "(array([8, 4, 4, 2, 1, 1], dtype=int64),\n",
       " array([ 2.48996914, 13.12667496, 23.76338078, 34.40008661, 45.03679243,\n",
       "        55.67349826, 66.31020408]))"
      ]
     },
     "execution_count": 62,
     "metadata": {},
     "output_type": "execute_result"
    }
   ],
   "source": [
    "np.histogram(sperm_per_video, bins='auto')"
   ]
  },
  {
   "cell_type": "code",
   "execution_count": 143,
   "id": "35ec73a8",
   "metadata": {},
   "outputs": [
    {
     "data": {
      "image/png": "[encoded data removed]",
      "text/plain": [
       "<Figure size 432x288 with 1 Axes>"
      ]
     },
     "metadata": {
      "needs_background": "light"
     },
     "output_type": "display_data"
    },
    {
     "data": {
      "text/plain": [
       "<Figure size 432x288 with 0 Axes>"
      ]
     },
     "metadata": {},
     "output_type": "display_data"
    }
   ],
   "source": [
    "plt.hist(sperm_per_video, bins='auto', color = \"skyblue\", ec=\"green\")\n",
    "# plt.title('Histogram on number of sperms per individual')\n",
    "plt.xlabel('number of sperms per individual')\n",
    "plt.ylabel('number of people')\n",
    "plt.show()\n",
    "plt.savefig('sperm_per_frame_historgram.pdf')"
   ]
  },
  {
   "cell_type": "markdown",
   "id": "3da5428a",
   "metadata": {},
   "source": [
    "So, we can divide the dataset into 2 groups: a group with less than 35 sperms and a group of people with more than  34 sperms and analyze the related information"
   ]
  },
  {
   "cell_type": "code",
   "execution_count": 64,
   "id": "7e366e14",
   "metadata": {},
   "outputs": [
    {
     "data": {
      "text/plain": [
       "16"
      ]
     },
     "execution_count": 64,
     "metadata": {},
     "output_type": "execute_result"
    }
   ],
   "source": [
    "# index of people with less than 35 sperms\n",
    "idl = np.where(sperm_per_video<34.25272109)[0]\n",
    "len(idl)"
   ]
  },
  {
   "cell_type": "code",
   "execution_count": 65,
   "id": "71865ce5",
   "metadata": {
    "scrolled": true
   },
   "outputs": [
    {
     "data": {
      "text/plain": [
       "4"
      ]
     },
     "execution_count": 65,
     "metadata": {},
     "output_type": "execute_result"
    }
   ],
   "source": [
    "# index of people with more than 34 sperms\n",
    "idm = np.where(sperm_per_video>34.25272109)[0]\n",
    "len(idm)"
   ]
  },
  {
   "cell_type": "code",
   "execution_count": 66,
   "id": "9da991b6",
   "metadata": {},
   "outputs": [],
   "source": [
    "gr = np.repeat(0, 20)\n",
    "gr[idl] = 0\n",
    "gr[idm] = 1"
   ]
  },
  {
   "cell_type": "code",
   "execution_count": 67,
   "id": "f0b36fca",
   "metadata": {},
   "outputs": [],
   "source": [
    "fat_serum['group'] = gr\n",
    "fat_sperm['group'] = gr\n",
    "hormone['group'] = gr\n",
    "semen['group'] = gr"
   ]
  },
  {
   "cell_type": "code",
   "execution_count": 68,
   "id": "adc9e402",
   "metadata": {},
   "outputs": [],
   "source": [
    "fat_serum = fat_serum.drop(columns = 'ID')\n",
    "fat_sperm = fat_sperm.drop(columns = 'ID')\n",
    "hormone = hormone.drop(columns = 'ID')\n",
    "semen = semen.drop(columns = 'ID')"
   ]
  },
  {
   "cell_type": "markdown",
   "id": "ae1558e3",
   "metadata": {},
   "source": [
    "## analysis based on related information\n",
    "interestingly, all the people that have more than 34 sperms are more than 40 yearsold."
   ]
  },
  {
   "cell_type": "code",
   "execution_count": 69,
   "id": "228319e6",
   "metadata": {},
   "outputs": [
    {
     "data": {
      "text/html": [
       "<div>\n",
       "<style scoped>\n",
       "    .dataframe tbody tr th:only-of-type {\n",
       "        vertical-align: middle;\n",
       "    }\n",
       "\n",
       "    .dataframe tbody tr th {\n",
       "        vertical-align: top;\n",
       "    }\n",
       "\n",
       "    .dataframe thead th {\n",
       "        text-align: right;\n",
       "    }\n",
       "</style>\n",
       "<table border=\"1\" class=\"dataframe\">\n",
       "  <thead>\n",
       "    <tr style=\"text-align: right;\">\n",
       "      <th></th>\n",
       "      <th>ID</th>\n",
       "      <th>Abstinence time(days)</th>\n",
       "      <th>Body mass index (kg/m²)</th>\n",
       "      <th>Age (years)</th>\n",
       "    </tr>\n",
       "  </thead>\n",
       "  <tbody>\n",
       "    <tr>\n",
       "      <th>0</th>\n",
       "      <td>11</td>\n",
       "      <td>3</td>\n",
       "      <td>28.8</td>\n",
       "      <td>41</td>\n",
       "    </tr>\n",
       "    <tr>\n",
       "      <th>2</th>\n",
       "      <td>13</td>\n",
       "      <td>1</td>\n",
       "      <td>28.1</td>\n",
       "      <td>44</td>\n",
       "    </tr>\n",
       "    <tr>\n",
       "      <th>9</th>\n",
       "      <td>24</td>\n",
       "      <td>Not reported</td>\n",
       "      <td>34.1</td>\n",
       "      <td>50</td>\n",
       "    </tr>\n",
       "    <tr>\n",
       "      <th>13</th>\n",
       "      <td>36</td>\n",
       "      <td>3</td>\n",
       "      <td>36.4</td>\n",
       "      <td>50</td>\n",
       "    </tr>\n",
       "  </tbody>\n",
       "</table>\n",
       "</div>"
      ],
      "text/plain": [
       "    ID Abstinence time(days)  Body mass index (kg/m²)  Age (years)\n",
       "0   11                     3                     28.8           41\n",
       "2   13                     1                     28.1           44\n",
       "9   24          Not reported                     34.1           50\n",
       "13  36                     3                     36.4           50"
      ]
     },
     "execution_count": 69,
     "metadata": {},
     "output_type": "execute_result"
    }
   ],
   "source": [
    "relatedm, relatedl = related_info.iloc[idm], related_info.iloc[idl]\n",
    "relatedm"
   ]
  },
  {
   "cell_type": "code",
   "execution_count": 70,
   "id": "29d2846e",
   "metadata": {
    "scrolled": true
   },
   "outputs": [
    {
     "data": {
      "text/plain": [
       "(Body mass index (kg/m²)    31.85\n",
       " Age (years)                46.25\n",
       " dtype: float64,\n",
       " Body mass index (kg/m²)    29.7375\n",
       " Age (years)                35.0625\n",
       " dtype: float64)"
      ]
     },
     "execution_count": 70,
     "metadata": {},
     "output_type": "execute_result"
    }
   ],
   "source": [
    "np.mean(relatedm.loc[:,relatedm.columns != 'ID']), np.mean(relatedl.loc[:,relatedl.columns != 'ID'])"
   ]
  },
  {
   "cell_type": "markdown",
   "id": "4ca9f05d",
   "metadata": {},
   "source": [
    "### Fat serum "
   ]
  },
  {
   "cell_type": "code",
   "execution_count": 89,
   "id": "ee8c9734",
   "metadata": {},
   "outputs": [
    {
     "data": {
      "text/plain": [
       "Index(['Serum C14:0 (myristic acid)', 'Serum C16:0 (palmitic acid)',\n",
       "       'Serum C16:1 (palmitoleic acid)', 'Serum C18:0 (stearic acid)',\n",
       "       'Serum C18:1 n-9 (oleic acid)', 'Serum total C18:1',\n",
       "       'Serum C18:2 n-6 (linoleic acid, LA)',\n",
       "       'Serum C18:3 n-6 (gamma-linoleic acid, GLA)', 'Serum C20:1 n-9',\n",
       "       'Serum C20:2 n-6', 'Serum C20:3 n-6', 'Serum C20:4 n-6',\n",
       "       'Serum C20:5 n-3  (eicosapentaenoic acid, EPA)',\n",
       "       'Serum C22:5 n-3 (docosapentaenoic acid, DPA)',\n",
       "       'Serum C22:6 n-3 (docosahexaenoic acid, DHA)', 'group'],\n",
       "      dtype='object')"
      ]
     },
     "execution_count": 89,
     "metadata": {},
     "output_type": "execute_result"
    }
   ],
   "source": [
    "fat_serum.columns"
   ]
  },
  {
   "cell_type": "code",
   "execution_count": 71,
   "id": "eef4c8e8",
   "metadata": {
    "scrolled": false
   },
   "outputs": [
    {
     "data": {
      "text/html": [
       "<div>\n",
       "<style scoped>\n",
       "    .dataframe tbody tr th:only-of-type {\n",
       "        vertical-align: middle;\n",
       "    }\n",
       "\n",
       "    .dataframe tbody tr th {\n",
       "        vertical-align: top;\n",
       "    }\n",
       "\n",
       "    .dataframe thead th {\n",
       "        text-align: right;\n",
       "    }\n",
       "</style>\n",
       "<table border=\"1\" class=\"dataframe\">\n",
       "  <thead>\n",
       "    <tr style=\"text-align: right;\">\n",
       "      <th></th>\n",
       "      <th>Serum C14:0 (myristic acid)</th>\n",
       "      <th>Serum C16:0 (palmitic acid)</th>\n",
       "      <th>Serum C16:1 (palmitoleic acid)</th>\n",
       "      <th>Serum C18:0 (stearic acid)</th>\n",
       "      <th>Serum C18:1 n-9 (oleic acid)</th>\n",
       "      <th>Serum total C18:1</th>\n",
       "      <th>Serum C18:2 n-6 (linoleic acid, LA)</th>\n",
       "      <th>Serum C18:3 n-6 (gamma-linoleic acid, GLA)</th>\n",
       "      <th>Serum C20:1 n-9</th>\n",
       "      <th>Serum C20:2 n-6</th>\n",
       "      <th>Serum C20:3 n-6</th>\n",
       "      <th>Serum C20:4 n-6</th>\n",
       "      <th>Serum C20:5 n-3  (eicosapentaenoic acid, EPA)</th>\n",
       "      <th>Serum C22:5 n-3 (docosapentaenoic acid, DPA)</th>\n",
       "      <th>Serum C22:6 n-3 (docosahexaenoic acid, DHA)</th>\n",
       "      <th>group</th>\n",
       "    </tr>\n",
       "  </thead>\n",
       "  <tbody>\n",
       "    <tr>\n",
       "      <th>0</th>\n",
       "      <td>0.26</td>\n",
       "      <td>29.64</td>\n",
       "      <td>0.37</td>\n",
       "      <td>14.92</td>\n",
       "      <td>7.43</td>\n",
       "      <td>9.02</td>\n",
       "      <td>23.22</td>\n",
       "      <td>0.14</td>\n",
       "      <td>0.19</td>\n",
       "      <td>0.37</td>\n",
       "      <td>2.91</td>\n",
       "      <td>9.00</td>\n",
       "      <td>1.63</td>\n",
       "      <td>1.22</td>\n",
       "      <td>7.11</td>\n",
       "      <td>1</td>\n",
       "    </tr>\n",
       "    <tr>\n",
       "      <th>2</th>\n",
       "      <td>0.20</td>\n",
       "      <td>29.22</td>\n",
       "      <td>0.48</td>\n",
       "      <td>15.34</td>\n",
       "      <td>8.32</td>\n",
       "      <td>9.90</td>\n",
       "      <td>20.98</td>\n",
       "      <td>0.29</td>\n",
       "      <td>0.13</td>\n",
       "      <td>0.31</td>\n",
       "      <td>2.10</td>\n",
       "      <td>9.57</td>\n",
       "      <td>3.39</td>\n",
       "      <td>1.06</td>\n",
       "      <td>7.01</td>\n",
       "      <td>1</td>\n",
       "    </tr>\n",
       "    <tr>\n",
       "      <th>9</th>\n",
       "      <td>0.27</td>\n",
       "      <td>29.15</td>\n",
       "      <td>0.40</td>\n",
       "      <td>16.48</td>\n",
       "      <td>7.82</td>\n",
       "      <td>9.17</td>\n",
       "      <td>23.33</td>\n",
       "      <td>0.27</td>\n",
       "      <td>0.11</td>\n",
       "      <td>0.29</td>\n",
       "      <td>4.03</td>\n",
       "      <td>8.76</td>\n",
       "      <td>1.08</td>\n",
       "      <td>1.25</td>\n",
       "      <td>5.40</td>\n",
       "      <td>1</td>\n",
       "    </tr>\n",
       "    <tr>\n",
       "      <th>13</th>\n",
       "      <td>0.26</td>\n",
       "      <td>28.09</td>\n",
       "      <td>0.36</td>\n",
       "      <td>15.76</td>\n",
       "      <td>7.68</td>\n",
       "      <td>9.70</td>\n",
       "      <td>20.79</td>\n",
       "      <td>0.16</td>\n",
       "      <td>0.15</td>\n",
       "      <td>0.30</td>\n",
       "      <td>2.65</td>\n",
       "      <td>8.43</td>\n",
       "      <td>3.25</td>\n",
       "      <td>1.49</td>\n",
       "      <td>8.60</td>\n",
       "      <td>1</td>\n",
       "    </tr>\n",
       "  </tbody>\n",
       "</table>\n",
       "</div>"
      ],
      "text/plain": [
       "    Serum C14:0 (myristic acid)  Serum C16:0 (palmitic acid)  \\\n",
       "0                          0.26                        29.64   \n",
       "2                          0.20                        29.22   \n",
       "9                          0.27                        29.15   \n",
       "13                         0.26                        28.09   \n",
       "\n",
       "    Serum C16:1 (palmitoleic acid)  Serum C18:0 (stearic acid)  \\\n",
       "0                             0.37                       14.92   \n",
       "2                             0.48                       15.34   \n",
       "9                             0.40                       16.48   \n",
       "13                            0.36                       15.76   \n",
       "\n",
       "    Serum C18:1 n-9 (oleic acid)  Serum total C18:1  \\\n",
       "0                           7.43               9.02   \n",
       "2                           8.32               9.90   \n",
       "9                           7.82               9.17   \n",
       "13                          7.68               9.70   \n",
       "\n",
       "    Serum C18:2 n-6 (linoleic acid, LA)  \\\n",
       "0                                 23.22   \n",
       "2                                 20.98   \n",
       "9                                 23.33   \n",
       "13                                20.79   \n",
       "\n",
       "    Serum C18:3 n-6 (gamma-linoleic acid, GLA)  Serum C20:1 n-9  \\\n",
       "0                                         0.14             0.19   \n",
       "2                                         0.29             0.13   \n",
       "9                                         0.27             0.11   \n",
       "13                                        0.16             0.15   \n",
       "\n",
       "    Serum C20:2 n-6  Serum C20:3 n-6  Serum C20:4 n-6  \\\n",
       "0              0.37             2.91             9.00   \n",
       "2              0.31             2.10             9.57   \n",
       "9              0.29             4.03             8.76   \n",
       "13             0.30             2.65             8.43   \n",
       "\n",
       "    Serum C20:5 n-3  (eicosapentaenoic acid, EPA)  \\\n",
       "0                                            1.63   \n",
       "2                                            3.39   \n",
       "9                                            1.08   \n",
       "13                                           3.25   \n",
       "\n",
       "    Serum C22:5 n-3 (docosapentaenoic acid, DPA)  \\\n",
       "0                                           1.22   \n",
       "2                                           1.06   \n",
       "9                                           1.25   \n",
       "13                                          1.49   \n",
       "\n",
       "    Serum C22:6 n-3 (docosahexaenoic acid, DHA)  group  \n",
       "0                                          7.11      1  \n",
       "2                                          7.01      1  \n",
       "9                                          5.40      1  \n",
       "13                                         8.60      1  "
      ]
     },
     "execution_count": 71,
     "metadata": {},
     "output_type": "execute_result"
    }
   ],
   "source": [
    "fat_serum.loc[fat_serum['group']==1]"
   ]
  },
  {
   "cell_type": "code",
   "execution_count": 97,
   "id": "6b42f6a7",
   "metadata": {},
   "outputs": [],
   "source": [
    "fat_serum.columns=['myristic acid', 'palmitic acid', 'palmitoleic acid', 'stearic acid',\n",
    "                          'oleic acid', 'Serum total C18:1', 'linoleic acid, LA',\n",
    "       'gamma-linoleic acid', 'Serum C20:1 n-9',\n",
    "       'Serum C20:2 n-6', 'Serum C20:3 n-6', 'Serum C20:4 n-6',\n",
    "       'eicosapentaenoic acid',\n",
    "       'docosapentaenoic acid',\n",
    "       'docosahexaenoic acid', 'group']"
   ]
  },
  {
   "cell_type": "code",
   "execution_count": 98,
   "id": "9f94e98a",
   "metadata": {
    "scrolled": true
   },
   "outputs": [
    {
     "data": {
      "text/plain": [
       "myristic acid            0.025253\n",
       "palmitic acid            0.005620\n",
       "palmitoleic acid         0.229814\n",
       "stearic acid            -0.038440\n",
       "oleic acid               0.169920\n",
       "Serum total C18:1        0.159764\n",
       "linoleic acid, LA        0.003255\n",
       "gamma-linoleic acid     -0.078488\n",
       "Serum C20:1 n-9          0.008621\n",
       "Serum C20:2 n-6         -0.033465\n",
       "Serum C20:3 n-6          0.013473\n",
       "Serum C20:4 n-6          0.093331\n",
       "eicosapentaenoic acid   -0.285561\n",
       "docosapentaenoic acid   -0.044821\n",
       "docosahexaenoic acid    -0.192123\n",
       "dtype: float64"
      ]
     },
     "execution_count": 98,
     "metadata": {},
     "output_type": "execute_result"
    }
   ],
   "source": [
    "# mean difference between classes\n",
    "fm1 = np.mean(fat_serum.loc[fat_serum['group']==0,fat_serum.columns != 'group'])\n",
    "fm2 = np.mean(fat_serum.loc[fat_serum['group']==1,fat_serum.columns != 'group'])  \n",
    "(fm1 - fm2)/np.abs(fm2)"
   ]
  },
  {
   "cell_type": "code",
   "execution_count": 191,
   "id": "12ec30bf",
   "metadata": {},
   "outputs": [
    {
     "data": {
      "image/png": "[encoded data removed]",
      "text/plain": [
       "<Figure size 864x432 with 4 Axes>"
      ]
     },
     "metadata": {
      "needs_background": "light"
     },
     "output_type": "display_data"
    }
   ],
   "source": [
    "fig, axes = plt.subplots(1, 2, sharex = True, sharey= True, figsize=(12,6))\n",
    "sn.heatmap(fat_serum.loc[fat_serum['group']==0,fat_serum.columns != 'group'].corr(), annot=False, ax = axes[0]) \n",
    "sn.heatmap(fat_serum.loc[fat_serum['group']==1,fat_serum.columns != 'group'].corr(), annot=False, ax = axes[1])\n",
    "axes[0].title.set_text('group L')\n",
    "axes[1].title.set_text('group M')\n",
    "plt.savefig('fat_serum_corr.png')\n",
    "plt.show()"
   ]
  },
  {
   "cell_type": "markdown",
   "id": "752635d4",
   "metadata": {},
   "source": [
    "### Fat sperms"
   ]
  },
  {
   "cell_type": "code",
   "execution_count": 101,
   "id": "9e81730f",
   "metadata": {},
   "outputs": [
    {
     "data": {
      "text/plain": [
       "Index(['Sperm C14:0 (myristic acid)', 'Sperm C15:0 (pentadecanoic acid)',\n",
       "       'Sperm C16:0 (palmitic acid)', 'Sperm C16:1 n-7 (palmitoleic acid)',\n",
       "       'Sperm C17:0', 'Sperm C18:0 (stearic acid)',\n",
       "       'Sperm C18:1 trans n-6 to n-11', 'Sperm C18:1 n-9 (oleic acid)',\n",
       "       'Sperm C18:1 n-7 to n-11', 'Sperm C18:2 n-6 (Linoleic acid, LA)',\n",
       "       'Sperm C20:0', 'Sperm C18:3 n-6 (gamma-linoleic acid, GLA)',\n",
       "       'Sperm C18:3 n-3 (a-linoleic acid, ALA)', 'Sperm C20:1 n-9',\n",
       "       'Sperm C20:2 n-6', 'Sperm C22:0', 'Sperm C20:3 n-6',\n",
       "       'Sperm C20:4 n-6 and C22:1 n-9 combined',\n",
       "       'Sperm C20:5 n-3 (eicosapentaenoic acid, EPA)', 'Sperm C24:0',\n",
       "       'Sperm C24:1 n-9', 'Sperm C22:5 n-3 (docosapentaenoic acid, DPA)',\n",
       "       'Sperm C22:6,n3 (docosahexaenoic acid, DHA)', 'group'],\n",
       "      dtype='object')"
      ]
     },
     "execution_count": 101,
     "metadata": {},
     "output_type": "execute_result"
    }
   ],
   "source": [
    "fat_sperm.columns"
   ]
  },
  {
   "cell_type": "code",
   "execution_count": 103,
   "id": "cd98ff64",
   "metadata": {},
   "outputs": [],
   "source": [
    "fat_sperm.columns = ['myristic acid', 'pentadecanoic acid',\n",
    "       'palmitic acid', 'palmitoleic acid',\n",
    "       'Sperm C17:0', 'stearic acid',\n",
    "       'Sperm C18:1 trans n-6 to n-11', 'oleic acid',\n",
    "       'Sperm C18:1 n-7 to n-11', 'Linoleic acid',\n",
    "       'Sperm C20:0', 'gamma-linoleic acid',\n",
    "       'a-linoleic acid', 'Sperm C20:1 n-9',\n",
    "       'Sperm C20:2 n-6', 'Sperm C22:0', 'Sperm C20:3 n-6',\n",
    "       'Sperm C20:4 n-6 & C22:1 n-9 combined',\n",
    "       'eicosapentaenoic acid', 'Sperm C24:0',\n",
    "       'Sperm C24:1 n-9', 'docosapentaenoic acid',\n",
    "       'docosahexaenoic acid', 'group']"
   ]
  },
  {
   "cell_type": "code",
   "execution_count": 104,
   "id": "b8cfc36c",
   "metadata": {},
   "outputs": [
    {
     "data": {
      "text/plain": [
       "myristic acid                          -0.197917\n",
       "pentadecanoic acid                      0.500000\n",
       "palmitic acid                          -0.023526\n",
       "palmitoleic acid                       -0.246032\n",
       "Sperm C17:0                             0.722222\n",
       "stearic acid                            0.160550\n",
       "Sperm C18:1 trans n-6 to n-11          -0.246429\n",
       "oleic acid                             -0.223460\n",
       "Sperm C18:1 n-7 to n-11                -0.070312\n",
       "Linoleic acid                           0.199653\n",
       "Sperm C20:0                             0.833333\n",
       "gamma-linoleic acid                    -0.467262\n",
       "a-linoleic acid                         0.195313\n",
       "Sperm C20:1 n-9                         0.166667\n",
       "Sperm C20:2 n-6                         0.250000\n",
       "Sperm C22:0                             0.098485\n",
       "Sperm C20:3 n-6                         0.282143\n",
       "Sperm C20:4 n-6 & C22:1 n-9 combined    0.247126\n",
       "eicosapentaenoic acid                   0.434524\n",
       "Sperm C24:0                             0.716346\n",
       "Sperm C24:1 n-9                         0.285714\n",
       "docosapentaenoic acid                   0.222222\n",
       "docosahexaenoic acid                   -0.135374\n",
       "dtype: float64"
      ]
     },
     "execution_count": 104,
     "metadata": {},
     "output_type": "execute_result"
    }
   ],
   "source": [
    "# mean difference between classes\n",
    "fs1 = np.mean(fat_sperm.loc[fat_sperm['group']==0,fat_sperm.columns != 'group'])\n",
    "fs2 = np.mean(fat_sperm.loc[fat_sperm['group']==1,fat_sperm.columns != 'group'])  \n",
    "(fs1 - fs2)/np.abs(fs2)"
   ]
  },
  {
   "cell_type": "code",
   "execution_count": 106,
   "id": "7bf0f59e",
   "metadata": {
    "scrolled": true
   },
   "outputs": [
    {
     "data": {
      "text/plain": [
       "myristic acid                          -0.356250\n",
       "pentadecanoic acid                      0.100000\n",
       "palmitic acid                          -0.518750\n",
       "palmitoleic acid                       -0.387500\n",
       "Sperm C17:0                             0.162500\n",
       "stearic acid                            1.312500\n",
       "Sperm C18:1 trans n-6 to n-11          -0.431250\n",
       "oleic acid                             -4.262500\n",
       "Sperm C18:1 n-7 to n-11                -0.168750\n",
       "Linoleic acid                           0.718750\n",
       "Sperm C20:0                             0.312500\n",
       "gamma-linoleic acid                    -0.196250\n",
       "a-linoleic acid                         0.015625\n",
       "Sperm C20:1 n-9                         0.075000\n",
       "Sperm C20:2 n-6                         0.118750\n",
       "Sperm C22:0                             0.162500\n",
       "Sperm C20:3 n-6                         0.493750\n",
       "Sperm C20:4 n-6 & C22:1 n-9 combined    0.537500\n",
       "eicosapentaenoic acid                   0.045625\n",
       "Sperm C24:0                             0.931250\n",
       "Sperm C24:1 n-9                         0.450000\n",
       "docosapentaenoic acid                   0.200000\n",
       "docosahexaenoic acid                   -2.487500\n",
       "dtype: float64"
      ]
     },
     "execution_count": 106,
     "metadata": {},
     "output_type": "execute_result"
    }
   ],
   "source": [
    "# mean difference between classes\n",
    "fs1 = np.mean(fat_sperm.loc[fat_sperm['group']==0,fat_sperm.columns != 'group'])\n",
    "fs2 = np.mean(fat_sperm.loc[fat_sperm['group']==1,fat_sperm.columns != 'group'])  \n",
    "fs1 - fs2"
   ]
  },
  {
   "cell_type": "code",
   "execution_count": 192,
   "id": "bd8a5b1b",
   "metadata": {},
   "outputs": [
    {
     "data": {
      "image/png": "[encoded data removed]",
      "text/plain": [
       "<Figure size 864x432 with 4 Axes>"
      ]
     },
     "metadata": {
      "needs_background": "light"
     },
     "output_type": "display_data"
    }
   ],
   "source": [
    "fig, axes = plt.subplots(1, 2, sharex = True, sharey= True, figsize=(12,6))\n",
    "sn.heatmap(fat_sperm.loc[fat_sperm['group']==0,fat_sperm.columns != 'group'].corr(), annot=False, ax = axes[0]) \n",
    "sn.heatmap(fat_sperm.loc[fat_sperm['group']==1,fat_sperm.columns != 'group'].corr(), annot=False, ax = axes[1]) \n",
    "axes[0].title.set_text('group L')\n",
    "axes[1].title.set_text('group M')\n",
    "plt.savefig('fat_sperm_corr.png')\n",
    "plt.show()"
   ]
  },
  {
   "cell_type": "markdown",
   "id": "f5a29682",
   "metadata": {},
   "source": [
    "### Hormone analysis"
   ]
  },
  {
   "cell_type": "code",
   "execution_count": 78,
   "id": "e211e26a",
   "metadata": {
    "scrolled": true
   },
   "outputs": [
    {
     "data": {
      "text/plain": [
       "Seminal plasma anti-Müllerian hormone (AMH) (pmol/L)   -49.250000\n",
       "Serum total testosterone (nmol/L)                        4.075000\n",
       "Serum oestradiol (nmol/L)                               -0.001250\n",
       "Serum sex hormone-binding globulin, SHBG (nmol/L)        1.500000\n",
       "Serum follicle-stimulating hormone, FSH (IU/L)           1.157500\n",
       "Serum Luteinizing hormone, LH (IU/L)                    -0.406875\n",
       "Serum inhibin B (ng/L)                                 -38.750000\n",
       "Serum anti-Müllerian hormone, AMH (pmol/L)              12.625000\n",
       "dtype: float64"
      ]
     },
     "execution_count": 78,
     "metadata": {},
     "output_type": "execute_result"
    }
   ],
   "source": [
    "# mean difference between classes\n",
    "np.mean(hormone.loc[hormone['group']==0,hormone.columns != 'group']) - np.mean(hormone.loc[hormone['group']==1,hormone.columns != 'group'])  "
   ]
  },
  {
   "cell_type": "code",
   "execution_count": 193,
   "id": "8234792e",
   "metadata": {},
   "outputs": [
    {
     "data": {
      "image/png": "[encoded data removed]",
      "text/plain": [
       "<Figure size 720x360 with 4 Axes>"
      ]
     },
     "metadata": {
      "needs_background": "light"
     },
     "output_type": "display_data"
    }
   ],
   "source": [
    "fig, axes = plt.subplots(1, 2, sharex = True, sharey= True, figsize=(10,5))\n",
    "sn.heatmap(hormone.loc[hormone['group']==0,hormone.columns != 'group'].corr(), annot=False, ax = axes[0]) \n",
    "sn.heatmap(hormone.loc[hormone['group']==1,hormone.columns != 'group'].corr(), annot=False, ax = axes[1]) \n",
    "axes[0].title.set_text('group L')\n",
    "axes[1].title.set_text('group M')\n",
    "plt.savefig('hormone_corr.png')\n",
    "plt.show()"
   ]
  },
  {
   "cell_type": "markdown",
   "id": "2452c066",
   "metadata": {},
   "source": [
    "### Semen analysis"
   ]
  },
  {
   "cell_type": "code",
   "execution_count": 81,
   "id": "1974cc57",
   "metadata": {},
   "outputs": [
    {
     "data": {
      "text/plain": [
       "Sperm concentration (x10⁶/mL)        -0.818490\n",
       "Total sperm count (x10⁶)             -0.414604\n",
       "Ejaculate volume (mL)                 1.699324\n",
       "Sperm vitality (%)                    0.030506\n",
       "Normal spermatozoa (%)               -0.213362\n",
       "Head defects (%)                      0.005288\n",
       "Midpiece and neck defects (%)         0.186918\n",
       "Tail defects (%)                      0.380931\n",
       "Cytoplasmic droplet (%)               0.398571\n",
       "Teratozoospermia index                0.082168\n",
       "Progressive motility (%)             -0.121739\n",
       "Non progressive sperm motility (%)    0.301402\n",
       "Immotile sperm (%)                   -0.102528\n",
       "High DNA stainability, HDS (%)        1.068966\n",
       "DNA fragmentation index, DFI (%)     -0.028846\n",
       "dtype: float64"
      ]
     },
     "execution_count": 81,
     "metadata": {},
     "output_type": "execute_result"
    }
   ],
   "source": [
    "# mean difference between classes\n",
    "fse1 = np.mean(semen.loc[semen['group']==0,semen.columns != 'group'])\n",
    "fse2 = np.mean(semen.loc[semen['group']==1,semen.columns != 'group'])  \n",
    "(fse1 - fse2)/np.abs(fse2)"
   ]
  },
  {
   "cell_type": "code",
   "execution_count": 82,
   "id": "6e94a4a9",
   "metadata": {},
   "outputs": [
    {
     "data": {
      "text/plain": [
       "Sperm concentration (x10⁶/mL)        -78.57500\n",
       "Total sperm count (x10⁶)             -69.94375\n",
       "Ejaculate volume (mL)                  3.14375\n",
       "Sperm vitality (%)                     2.56250\n",
       "Normal spermatozoa (%)                -0.61875\n",
       "Head defects (%)                       0.51250\n",
       "Midpiece and neck defects (%)          4.51875\n",
       "Tail defects (%)                       5.21875\n",
       "Cytoplasmic droplet (%)                1.74375\n",
       "Teratozoospermia index                 0.11750\n",
       "Progressive motility (%)              -3.50000\n",
       "Non progressive sperm motility (%)     8.06250\n",
       "Immotile sperm (%)                    -4.56250\n",
       "High DNA stainability, HDS (%)         7.75000\n",
       "DNA fragmentation index, DFI (%)      -0.56250\n",
       "dtype: float64"
      ]
     },
     "execution_count": 82,
     "metadata": {},
     "output_type": "execute_result"
    }
   ],
   "source": [
    "fse1 - fse2"
   ]
  },
  {
   "cell_type": "code",
   "execution_count": 187,
   "id": "4c46ac98",
   "metadata": {},
   "outputs": [
    {
     "data": {
      "image/png": "[encoded data removed]",
      "text/plain": [
       "<Figure size 720x360 with 4 Axes>"
      ]
     },
     "metadata": {
      "needs_background": "light"
     },
     "output_type": "display_data"
    }
   ],
   "source": [
    "fig, axes = plt.subplots(1, 2, sharex = True, sharey= True, figsize=(10,5))\n",
    "sn.heatmap(semen.loc[semen['group']==0,semen.columns != 'group'].corr(), annot=False, ax = axes[0]) \n",
    "sn.heatmap(semen.loc[semen['group']==0,semen.columns != 'group'].corr(), annot=False, ax = axes[1]) \n",
    "axes[0].title.set_text('group L')\n",
    "axes[1].title.set_text('group M')\n",
    "axes[0].yaxis.label.set_size(200)\n",
    "axes[0].xaxis.label.set_size(200)\n",
    "plt.savefig('semen.pdf')\n",
    "plt.show()"
   ]
  },
  {
   "cell_type": "code",
   "execution_count": null,
   "id": "3caaee5a",
   "metadata": {},
   "outputs": [],
   "source": []
  },
  {
   "cell_type": "code",
   "execution_count": null,
   "id": "124a11ee",
   "metadata": {},
   "outputs": [],
   "source": []
  }
 ],
 "metadata": {
  "kernelspec": {
   "display_name": "Python 3",
   "language": "python",
   "name": "python3"
  },
  "language_info": {
   "codemirror_mode": {
    "name": "ipython",
    "version": 3
   },
   "file_extension": ".py",
   "mimetype": "text/x-python",
   "name": "python",
   "nbconvert_exporter": "python",
   "pygments_lexer": "ipython3",
   "version": "3.8.8"
  }
 },
 "nbformat": 4,
 "nbformat_minor": 5
}
