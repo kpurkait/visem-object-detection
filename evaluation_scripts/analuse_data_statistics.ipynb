{
 "cells": [
  {
   "cell_type": "code",
   "execution_count": 1,
   "metadata": {},
   "outputs": [],
   "source": [
    "import pandas as pd"
   ]
  },
  {
   "cell_type": "code",
   "execution_count": 2,
   "metadata": {},
   "outputs": [],
   "source": [
    "csv_path = \"../data_preparation_scripts/sperm_all_BBs.csv\""
   ]
  },
  {
   "cell_type": "code",
   "execution_count": 3,
   "metadata": {},
   "outputs": [],
   "source": [
    "df = pd.read_csv(csv_path,sep=\" \")"
   ]
  },
  {
   "cell_type": "code",
   "execution_count": 4,
   "metadata": {},
   "outputs": [
    {
     "data": {
      "text/html": [
       "<div>\n",
       "<style scoped>\n",
       "    .dataframe tbody tr th:only-of-type {\n",
       "        vertical-align: middle;\n",
       "    }\n",
       "\n",
       "    .dataframe tbody tr th {\n",
       "        vertical-align: top;\n",
       "    }\n",
       "\n",
       "    .dataframe thead th {\n",
       "        text-align: right;\n",
       "    }\n",
       "</style>\n",
       "<table border=\"1\" class=\"dataframe\">\n",
       "  <thead>\n",
       "    <tr style=\"text-align: right;\">\n",
       "      <th></th>\n",
       "      <th>frame_name</th>\n",
       "      <th>fid</th>\n",
       "      <th>class</th>\n",
       "      <th>bb0</th>\n",
       "      <th>bb1</th>\n",
       "      <th>bb2</th>\n",
       "      <th>bb3</th>\n",
       "    </tr>\n",
       "  </thead>\n",
       "  <tbody>\n",
       "    <tr>\n",
       "      <th>0</th>\n",
       "      <td>11_frame_0_with_ftid</td>\n",
       "      <td>ckz3v9nzv00033867jsekqdcl</td>\n",
       "      <td>0</td>\n",
       "      <td>0.275781</td>\n",
       "      <td>0.412500</td>\n",
       "      <td>0.026562</td>\n",
       "      <td>0.037500</td>\n",
       "    </tr>\n",
       "    <tr>\n",
       "      <th>1</th>\n",
       "      <td>11_frame_0_with_ftid</td>\n",
       "      <td>ckz6ru2eb0001386lefk6js4m</td>\n",
       "      <td>0</td>\n",
       "      <td>0.238281</td>\n",
       "      <td>0.583333</td>\n",
       "      <td>0.026562</td>\n",
       "      <td>0.037500</td>\n",
       "    </tr>\n",
       "    <tr>\n",
       "      <th>2</th>\n",
       "      <td>11_frame_0_with_ftid</td>\n",
       "      <td>ckz6ru3um0003386l39xwv0yk</td>\n",
       "      <td>0</td>\n",
       "      <td>0.246094</td>\n",
       "      <td>0.847917</td>\n",
       "      <td>0.026562</td>\n",
       "      <td>0.037500</td>\n",
       "    </tr>\n",
       "    <tr>\n",
       "      <th>3</th>\n",
       "      <td>11_frame_0_with_ftid</td>\n",
       "      <td>ckz6ru5610005386l8uoys4lc</td>\n",
       "      <td>0</td>\n",
       "      <td>0.194531</td>\n",
       "      <td>0.845833</td>\n",
       "      <td>0.026562</td>\n",
       "      <td>0.037500</td>\n",
       "    </tr>\n",
       "    <tr>\n",
       "      <th>4</th>\n",
       "      <td>11_frame_0_with_ftid</td>\n",
       "      <td>ckz6ru6of0007386lhf2t4dtw</td>\n",
       "      <td>0</td>\n",
       "      <td>0.083594</td>\n",
       "      <td>0.806250</td>\n",
       "      <td>0.026562</td>\n",
       "      <td>0.037500</td>\n",
       "    </tr>\n",
       "    <tr>\n",
       "      <th>...</th>\n",
       "      <td>...</td>\n",
       "      <td>...</td>\n",
       "      <td>...</td>\n",
       "      <td>...</td>\n",
       "      <td>...</td>\n",
       "      <td>...</td>\n",
       "      <td>...</td>\n",
       "    </tr>\n",
       "    <tr>\n",
       "      <th>656330</th>\n",
       "      <td>82_frame_1499_with_ftid</td>\n",
       "      <td>cl4za2v3u000c3y6fc6jz65yn</td>\n",
       "      <td>0</td>\n",
       "      <td>0.629687</td>\n",
       "      <td>0.304167</td>\n",
       "      <td>0.028125</td>\n",
       "      <td>0.037500</td>\n",
       "    </tr>\n",
       "    <tr>\n",
       "      <th>656331</th>\n",
       "      <td>82_frame_1499_with_ftid</td>\n",
       "      <td>cl4za4fnb000g3y6frpvd1jm6</td>\n",
       "      <td>0</td>\n",
       "      <td>0.335156</td>\n",
       "      <td>0.630208</td>\n",
       "      <td>0.039062</td>\n",
       "      <td>0.052083</td>\n",
       "    </tr>\n",
       "    <tr>\n",
       "      <th>656332</th>\n",
       "      <td>82_frame_1499_with_ftid</td>\n",
       "      <td>cl4zaco4r000k3y6fa7pk88t5</td>\n",
       "      <td>0</td>\n",
       "      <td>0.562500</td>\n",
       "      <td>0.378125</td>\n",
       "      <td>0.034375</td>\n",
       "      <td>0.052083</td>\n",
       "    </tr>\n",
       "    <tr>\n",
       "      <th>656333</th>\n",
       "      <td>82_frame_1499_with_ftid</td>\n",
       "      <td>cl5mo9vaj00033b6gb6jraptt</td>\n",
       "      <td>2</td>\n",
       "      <td>0.264062</td>\n",
       "      <td>0.664583</td>\n",
       "      <td>0.015625</td>\n",
       "      <td>0.020833</td>\n",
       "    </tr>\n",
       "    <tr>\n",
       "      <th>656334</th>\n",
       "      <td>82_frame_1499_with_ftid</td>\n",
       "      <td>cl5modn3m000a3b6gto9tq5oy</td>\n",
       "      <td>2</td>\n",
       "      <td>0.278125</td>\n",
       "      <td>0.627083</td>\n",
       "      <td>0.015625</td>\n",
       "      <td>0.016667</td>\n",
       "    </tr>\n",
       "  </tbody>\n",
       "</table>\n",
       "<p>656335 rows × 7 columns</p>\n",
       "</div>"
      ],
      "text/plain": [
       "                     frame_name                        fid  class       bb0  \\\n",
       "0          11_frame_0_with_ftid  ckz3v9nzv00033867jsekqdcl      0  0.275781   \n",
       "1          11_frame_0_with_ftid  ckz6ru2eb0001386lefk6js4m      0  0.238281   \n",
       "2          11_frame_0_with_ftid  ckz6ru3um0003386l39xwv0yk      0  0.246094   \n",
       "3          11_frame_0_with_ftid  ckz6ru5610005386l8uoys4lc      0  0.194531   \n",
       "4          11_frame_0_with_ftid  ckz6ru6of0007386lhf2t4dtw      0  0.083594   \n",
       "...                         ...                        ...    ...       ...   \n",
       "656330  82_frame_1499_with_ftid  cl4za2v3u000c3y6fc6jz65yn      0  0.629687   \n",
       "656331  82_frame_1499_with_ftid  cl4za4fnb000g3y6frpvd1jm6      0  0.335156   \n",
       "656332  82_frame_1499_with_ftid  cl4zaco4r000k3y6fa7pk88t5      0  0.562500   \n",
       "656333  82_frame_1499_with_ftid  cl5mo9vaj00033b6gb6jraptt      2  0.264062   \n",
       "656334  82_frame_1499_with_ftid  cl5modn3m000a3b6gto9tq5oy      2  0.278125   \n",
       "\n",
       "             bb1       bb2       bb3  \n",
       "0       0.412500  0.026562  0.037500  \n",
       "1       0.583333  0.026562  0.037500  \n",
       "2       0.847917  0.026562  0.037500  \n",
       "3       0.845833  0.026562  0.037500  \n",
       "4       0.806250  0.026562  0.037500  \n",
       "...          ...       ...       ...  \n",
       "656330  0.304167  0.028125  0.037500  \n",
       "656331  0.630208  0.039062  0.052083  \n",
       "656332  0.378125  0.034375  0.052083  \n",
       "656333  0.664583  0.015625  0.020833  \n",
       "656334  0.627083  0.015625  0.016667  \n",
       "\n",
       "[656335 rows x 7 columns]"
      ]
     },
     "execution_count": 4,
     "metadata": {},
     "output_type": "execute_result"
    }
   ],
   "source": [
    "df"
   ]
  },
  {
   "cell_type": "code",
   "execution_count": 5,
   "metadata": {},
   "outputs": [
    {
     "data": {
      "text/plain": [
       "29196"
      ]
     },
     "execution_count": 5,
     "metadata": {},
     "output_type": "execute_result"
    }
   ],
   "source": [
    "df[\"frame_name\"].nunique()"
   ]
  },
  {
   "cell_type": "code",
   "execution_count": 6,
   "metadata": {},
   "outputs": [
    {
     "data": {
      "text/plain": [
       "3"
      ]
     },
     "execution_count": 6,
     "metadata": {},
     "output_type": "execute_result"
    }
   ],
   "source": [
    "df[\"class\"].nunique()"
   ]
  },
  {
   "cell_type": "code",
   "execution_count": 8,
   "metadata": {},
   "outputs": [
    {
     "data": {
      "text/plain": [
       "1176"
      ]
     },
     "execution_count": 8,
     "metadata": {},
     "output_type": "execute_result"
    }
   ],
   "source": [
    "df[\"fid\"].nunique()"
   ]
  },
  {
   "cell_type": "code",
   "execution_count": 9,
   "metadata": {},
   "outputs": [
    {
     "data": {
      "text/html": [
       "<div>\n",
       "<style scoped>\n",
       "    .dataframe tbody tr th:only-of-type {\n",
       "        vertical-align: middle;\n",
       "    }\n",
       "\n",
       "    .dataframe tbody tr th {\n",
       "        vertical-align: top;\n",
       "    }\n",
       "\n",
       "    .dataframe thead th {\n",
       "        text-align: right;\n",
       "    }\n",
       "</style>\n",
       "<table border=\"1\" class=\"dataframe\">\n",
       "  <thead>\n",
       "    <tr style=\"text-align: right;\">\n",
       "      <th></th>\n",
       "      <th>frame_name</th>\n",
       "      <th>fid</th>\n",
       "      <th>bb0</th>\n",
       "      <th>bb1</th>\n",
       "      <th>bb2</th>\n",
       "      <th>bb3</th>\n",
       "    </tr>\n",
       "    <tr>\n",
       "      <th>class</th>\n",
       "      <th></th>\n",
       "      <th></th>\n",
       "      <th></th>\n",
       "      <th></th>\n",
       "      <th></th>\n",
       "      <th></th>\n",
       "    </tr>\n",
       "  </thead>\n",
       "  <tbody>\n",
       "    <tr>\n",
       "      <th>0</th>\n",
       "      <td>28974</td>\n",
       "      <td>1121</td>\n",
       "      <td>314095</td>\n",
       "      <td>295120</td>\n",
       "      <td>37565</td>\n",
       "      <td>40115</td>\n",
       "    </tr>\n",
       "    <tr>\n",
       "      <th>1</th>\n",
       "      <td>10199</td>\n",
       "      <td>20</td>\n",
       "      <td>1852</td>\n",
       "      <td>2104</td>\n",
       "      <td>426</td>\n",
       "      <td>491</td>\n",
       "    </tr>\n",
       "    <tr>\n",
       "      <th>2</th>\n",
       "      <td>13532</td>\n",
       "      <td>35</td>\n",
       "      <td>11064</td>\n",
       "      <td>12008</td>\n",
       "      <td>1944</td>\n",
       "      <td>1518</td>\n",
       "    </tr>\n",
       "  </tbody>\n",
       "</table>\n",
       "</div>"
      ],
      "text/plain": [
       "       frame_name   fid     bb0     bb1    bb2    bb3\n",
       "class                                                \n",
       "0           28974  1121  314095  295120  37565  40115\n",
       "1           10199    20    1852    2104    426    491\n",
       "2           13532    35   11064   12008   1944   1518"
      ]
     },
     "execution_count": 9,
     "metadata": {},
     "output_type": "execute_result"
    }
   ],
   "source": [
    "df.groupby(\"class\").nunique()"
   ]
  },
  {
   "cell_type": "code",
   "execution_count": 11,
   "metadata": {},
   "outputs": [
    {
     "data": {
      "text/plain": [
       "0    612377\n",
       "2     22112\n",
       "1     21846\n",
       "Name: class, dtype: int64"
      ]
     },
     "execution_count": 11,
     "metadata": {},
     "output_type": "execute_result"
    }
   ],
   "source": [
    "df[\"class\"].value_counts()"
   ]
  },
  {
   "cell_type": "code",
   "execution_count": null,
   "metadata": {},
   "outputs": [],
   "source": []
  }
 ],
 "metadata": {
  "kernelspec": {
   "display_name": "pytorch18",
   "language": "python",
   "name": "python3"
  },
  "language_info": {
   "codemirror_mode": {
    "name": "ipython",
    "version": 3
   },
   "file_extension": ".py",
   "mimetype": "text/x-python",
   "name": "python",
   "nbconvert_exporter": "python",
   "pygments_lexer": "ipython3",
   "version": "3.8.8"
  },
  "orig_nbformat": 4,
  "vscode": {
   "interpreter": {
    "hash": "a2cbefcec2ddeda9fd486ad44544e08487e0d974403ebd50121c40541b49c7a7"
   }
  }
 },
 "nbformat": 4,
 "nbformat_minor": 2
}
